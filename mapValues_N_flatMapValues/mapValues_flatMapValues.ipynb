{
 "cells": [
  {
   "cell_type": "markdown",
   "metadata": {},
   "source": [
    "This stems from a comment by a trainer that flatMapValues will take many lines of python codes to write. I didn't think so then and i took it as a challenge to improve my python coding. If you know a more pythonic way of doing them please comment or add your codes here. Thanks very much for reading!"
   ]
  },
  {
   "cell_type": "code",
   "execution_count": 1,
   "metadata": {},
   "outputs": [
    {
     "name": "stdout",
     "output_type": "stream",
     "text": [
      "[['Singapore', ' 30|35|31|34'], ['Malaysia', ' 28|32|32|33'], ['Thailand', ' 32|33|32|30']]\n"
     ]
    }
   ],
   "source": [
    "# output equivalent to pyspark: keypairMap = localTemp.map(lambda x: x.split(','))\n",
    "localTemp = (['Singapore, 30|35|31|34', 'Malaysia, 28|32|32|33', 'Thailand, 32|33|32|30'])\n",
    "localTemp = list(map(lambda x: x.split(','), localTemp))# direct ‘conversion’, a no brainer\n",
    "print(localTemp)"
   ]
  },
  {
   "cell_type": "code",
   "execution_count": 2,
   "metadata": {},
   "outputs": [
    {
     "name": "stdout",
     "output_type": "stream",
     "text": [
      "[('Singapore', [' 30', '35', '31', '34']), ('Malaysia', [' 28', '32', '32', '33']), ('Thailand', [' 32', '33', '32', '30'])]\n"
     ]
    }
   ],
   "source": [
    "''' output equivalent to pyspark: keypairMap.mapValues(lambda x: x.split('|'))\n",
    "I split localTemp into 2 lists and have the same old map and lambda functions do their tasks.\n",
    "Not much difference from the above map & lambda, except for the additional variable y and list.\n",
    "Very likely can do with one list but i am limited by my know-how '''\n",
    "country, temp = list(zip(*localTemp))\n",
    "keypair = list(map(lambda x, y: (x,y.split('|')), country, temp))\n",
    "print(keypair)"
   ]
  },
  {
   "cell_type": "code",
   "execution_count": 3,
   "metadata": {},
   "outputs": [
    {
     "name": "stdout",
     "output_type": "stream",
     "text": [
      "[('Singapore', 30), ('Singapore', 35), ('Singapore', 31), ('Singapore', 34), ('Malaysia', 28), ('Malaysia', 32), ('Malaysia', 32), ('Malaysia', 33), ('Thailand', 32), ('Thailand', 33), ('Thailand', 32), ('Thailand', 30)]\n"
     ]
    }
   ],
   "source": [
    "''' output equivalent to keypairMap.flatMapValues(lambda x: x.split('|')) .mapValues(lambda x: int(x)) \n",
    "Used the classic “for loops” * 2 in list comprehension. Solution not as elegant as flatMapValues and surely can be improved on '''\n",
    "localTempRec = [(keypair[i][0], int(keypair[i][1][x])) for i in range(len(keypair)) for x in range(len(keypair[i][1]))]\n",
    "print(localTempRec)"
   ]
  }
 ],
 "metadata": {
  "interpreter": {
   "hash": "eaf277be5c94a29d02ea9f512acb2037211dcb731cbc0ea88e24900a1746141f"
  },
  "kernelspec": {
   "display_name": "Python 3.9.10 ('base')",
   "language": "python",
   "name": "python3"
  },
  "language_info": {
   "codemirror_mode": {
    "name": "ipython",
    "version": 3
   },
   "file_extension": ".py",
   "mimetype": "text/x-python",
   "name": "python",
   "nbconvert_exporter": "python",
   "pygments_lexer": "ipython3",
   "version": "3.9.10"
  },
  "orig_nbformat": 4
 },
 "nbformat": 4,
 "nbformat_minor": 2
}
